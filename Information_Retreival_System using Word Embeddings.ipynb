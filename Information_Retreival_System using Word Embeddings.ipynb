{
  "nbformat": 4,
  "nbformat_minor": 0,
  "metadata": {
    "colab": {
      "provenance": [],
      "collapsed_sections": [],
      "toc_visible": true
    },
    "kernelspec": {
      "name": "python3",
      "display_name": "Python 3"
    },
    "language_info": {
      "name": "python"
    }
  },
  "cells": [
    {
      "cell_type": "code",
      "execution_count": 1,
      "metadata": {
        "colab": {
          "base_uri": "https://localhost:8080/",
          "height": 0
        },
        "id": "zhxp7acQAttK",
        "outputId": "27336fec-2594-4c5c-e752-7a1ea9865879"
      },
      "outputs": [
        {
          "output_type": "stream",
          "name": "stdout",
          "text": [
            "Looking in indexes: https://pypi.org/simple, https://us-python.pkg.dev/colab-wheels/public/simple/\n",
            "Requirement already satisfied: requests in /usr/local/lib/python3.7/dist-packages (2.23.0)\n",
            "Requirement already satisfied: urllib3!=1.25.0,!=1.25.1,<1.26,>=1.21.1 in /usr/local/lib/python3.7/dist-packages (from requests) (1.24.3)\n",
            "Requirement already satisfied: chardet<4,>=3.0.2 in /usr/local/lib/python3.7/dist-packages (from requests) (3.0.4)\n",
            "Requirement already satisfied: idna<3,>=2.5 in /usr/local/lib/python3.7/dist-packages (from requests) (2.10)\n",
            "Requirement already satisfied: certifi>=2017.4.17 in /usr/local/lib/python3.7/dist-packages (from requests) (2022.6.15)\n"
          ]
        }
      ],
      "source": [
        "!pip install requests"
      ]
    },
    {
      "cell_type": "code",
      "source": [
        "!pip install wikipedia"
      ],
      "metadata": {
        "colab": {
          "base_uri": "https://localhost:8080/",
          "height": 0
        },
        "id": "6J5NTyRyA-uS",
        "outputId": "5a052aa0-84d7-4abb-84b5-12689b0223c4"
      },
      "execution_count": 2,
      "outputs": [
        {
          "output_type": "stream",
          "name": "stdout",
          "text": [
            "Looking in indexes: https://pypi.org/simple, https://us-python.pkg.dev/colab-wheels/public/simple/\n",
            "Collecting wikipedia\n",
            "  Downloading wikipedia-1.4.0.tar.gz (27 kB)\n",
            "Requirement already satisfied: beautifulsoup4 in /usr/local/lib/python3.7/dist-packages (from wikipedia) (4.6.3)\n",
            "Requirement already satisfied: requests<3.0.0,>=2.0.0 in /usr/local/lib/python3.7/dist-packages (from wikipedia) (2.23.0)\n",
            "Requirement already satisfied: urllib3!=1.25.0,!=1.25.1,<1.26,>=1.21.1 in /usr/local/lib/python3.7/dist-packages (from requests<3.0.0,>=2.0.0->wikipedia) (1.24.3)\n",
            "Requirement already satisfied: chardet<4,>=3.0.2 in /usr/local/lib/python3.7/dist-packages (from requests<3.0.0,>=2.0.0->wikipedia) (3.0.4)\n",
            "Requirement already satisfied: idna<3,>=2.5 in /usr/local/lib/python3.7/dist-packages (from requests<3.0.0,>=2.0.0->wikipedia) (2.10)\n",
            "Requirement already satisfied: certifi>=2017.4.17 in /usr/local/lib/python3.7/dist-packages (from requests<3.0.0,>=2.0.0->wikipedia) (2022.6.15)\n",
            "Building wheels for collected packages: wikipedia\n",
            "  Building wheel for wikipedia (setup.py) ... \u001b[?25l\u001b[?25hdone\n",
            "  Created wheel for wikipedia: filename=wikipedia-1.4.0-py3-none-any.whl size=11695 sha256=99ac4d783325f2b57f318b938d558776aadb94aef8c3e52074c3ccf39fad2bef\n",
            "  Stored in directory: /root/.cache/pip/wheels/15/93/6d/5b2c68b8a64c7a7a04947b4ed6d89fb557dcc6bc27d1d7f3ba\n",
            "Successfully built wikipedia\n",
            "Installing collected packages: wikipedia\n",
            "Successfully installed wikipedia-1.4.0\n"
          ]
        }
      ]
    },
    {
      "cell_type": "code",
      "source": [
        "import requests\n",
        "from bs4 import BeautifulSoup\n",
        "import webbrowser\n",
        "\n",
        "def random_article(length):\n",
        "  try:\n",
        "    title=[]\n",
        "    i=1\n",
        "    while i<=length:\n",
        "      a = \"https://en.wikipedia.org/wiki/Special:Random\"\n",
        "      u = requests.get(a)\n",
        "      soup = BeautifulSoup(u.content, 'html.parser')\n",
        "      title.append(soup.find(class_ = \"firstHeading\").text)\n",
        "      i=i+1\n",
        "  except:\n",
        "    pass   \n",
        "  return title\n",
        "# print(title)    "
      ],
      "metadata": {
        "id": "DhxDfOrSA_7j"
      },
      "execution_count": 3,
      "outputs": []
    },
    {
      "cell_type": "code",
      "source": [
        "import wikipedia\n",
        "from sklearn.feature_extraction.text import TfidfVectorizer\n",
        "from sklearn.metrics.pairwise import cosine_similarity\n",
        "import numpy as np\n",
        "import pandas as pd"
      ],
      "metadata": {
        "id": "uFtGubs3BGwA"
      },
      "execution_count": 6,
      "outputs": []
    },
    {
      "cell_type": "code",
      "source": [
        "import tensorflow_hub as hub\n",
        "embed=hub.load(\"https://tfhub.dev/google/universal-sentence-encoder/4\")\n",
        "#doc_embeddings = embed(docs)"
      ],
      "metadata": {
        "id": "Dzv7IL6bBVyf"
      },
      "execution_count": 7,
      "outputs": []
    },
    {
      "cell_type": "code",
      "source": [
        "articles=random_article(20000)"
      ],
      "metadata": {
        "id": "XadrXrzABYHp"
      },
      "execution_count": 8,
      "outputs": []
    },
    {
      "cell_type": "code",
      "source": [
        "wiki_lst=[]\n",
        "title=[]"
      ],
      "metadata": {
        "id": "60QHHV7kBbDe"
      },
      "execution_count": 9,
      "outputs": []
    },
    {
      "cell_type": "code",
      "source": [
        "try:\n",
        "  for article in articles:\n",
        "    wiki_lst.append(wikipedia.page(article).content)\n",
        "except:\n",
        "  pass    "
      ],
      "metadata": {
        "colab": {
          "base_uri": "https://localhost:8080/",
          "height": 0
        },
        "id": "kjNBX5VYBel6",
        "outputId": "91474503-8fb6-46ad-b5de-d3a03d422a9a"
      },
      "execution_count": 10,
      "outputs": [
        {
          "output_type": "stream",
          "name": "stderr",
          "text": [
            "/usr/local/lib/python3.7/dist-packages/wikipedia/wikipedia.py:389: UserWarning: No parser was explicitly specified, so I'm using the best available HTML parser for this system (\"lxml\"). This usually isn't a problem, but if you run this code on another system, or in a different virtual environment, it may use a different parser and behave differently.\n",
            "\n",
            "The code that caused this warning is on line 389 of the file /usr/local/lib/python3.7/dist-packages/wikipedia/wikipedia.py. To get rid of this warning, pass the additional argument 'features=\"lxml\"' to the BeautifulSoup constructor.\n",
            "\n",
            "  lis = BeautifulSoup(html).find_all('li')\n"
          ]
        }
      ]
    },
    {
      "cell_type": "code",
      "source": [
        "wiki_lst[0]"
      ],
      "metadata": {
        "colab": {
          "base_uri": "https://localhost:8080/",
          "height": 200
        },
        "id": "99482rqIBf88",
        "outputId": "8351a70e-2e8d-498e-99fc-e23376a3f648"
      },
      "execution_count": 11,
      "outputs": [
        {
          "output_type": "execute_result",
          "data": {
            "text/plain": [
              "\"Porsha (Bengali: পোরশা) is an Upazila of Naogaon District in the Division of Rajshahi, Bangladesh.\\n\\n\\n== Geography ==\\n\\nPorsha is located at 25.0250°N 88.4833°E\\ufeff / 25.0250; 88.4833. It has 18047 households, and total area 252.83 km2.Porsha Upazila is bounded by Sapahar Upazila on the north, Patnitala and Mohadevpur Upazilas on the east, Gomostapur and Niamatpur Upazilas on the south, Habibpur and Bamangola CD Blocks in Malda district, West Bengal, India, on the west.\\n\\n\\n== Demographics ==\\nAccording to 2011 Bangladesh census, Porsha had a population of 132,095. Males constituted 50.19% of the population and females 49.81%. Muslims formed 86.35% of the population, Hindus 10.38%, Christians 1.36% and others 1.90%. Porsha had a literacy rate of 42.52% for the population 7 years and above.As of the 1991 Bangladesh census, Porsha has a population of 97279. Males constitute 50.18% of the population, and females 49.82%. This Upazila's eighteen up population is 48932. Porsha has an average literacy rate of 26.5% (7+ years), and the national average of 32.4% literate.\\n\\n\\n== Administration ==\\nPorsha Upazila is divided into six union parishads: Chhaor, Ganguria, Ghatnagar, Masidpur, Nithpur, and Tentulia. The union parishads are subdivided into 155 mauzas and 246 villages.\\n\\n\\n== See also ==\\nUpazilas of Bangladesh\\nDistricts of Bangladesh\\nDivisions of Bangladesh\\n\\n\\n== References ==\""
            ],
            "application/vnd.google.colaboratory.intrinsic+json": {
              "type": "string"
            }
          },
          "metadata": {},
          "execution_count": 11
        }
      ]
    },
    {
      "cell_type": "code",
      "source": [
        "doc_embeddings = embed(wiki_lst)"
      ],
      "metadata": {
        "id": "zAxsL0b5Bh_7"
      },
      "execution_count": 12,
      "outputs": []
    },
    {
      "cell_type": "code",
      "source": [
        "doc_embeddings.shape"
      ],
      "metadata": {
        "colab": {
          "base_uri": "https://localhost:8080/",
          "height": 0
        },
        "id": "JEesMrvcBm-3",
        "outputId": "a01ce011-b2c3-4244-c2ab-9efa53a2a04c"
      },
      "execution_count": 13,
      "outputs": [
        {
          "output_type": "execute_result",
          "data": {
            "text/plain": [
              "TensorShape([5, 512])"
            ]
          },
          "metadata": {},
          "execution_count": 13
        }
      ]
    },
    {
      "cell_type": "code",
      "source": [
        "doc_embeddings"
      ],
      "metadata": {
        "colab": {
          "base_uri": "https://localhost:8080/",
          "height": 0
        },
        "id": "3tlcvvHTBosq",
        "outputId": "a5772b88-8219-4730-dd19-1b9c23cb5d7c"
      },
      "execution_count": 14,
      "outputs": [
        {
          "output_type": "execute_result",
          "data": {
            "text/plain": [
              "<tf.Tensor: shape=(5, 512), dtype=float32, numpy=\n",
              "array([[-0.04144857,  0.01884129, -0.02551987, ..., -0.05940569,\n",
              "         0.00277916, -0.06544702],\n",
              "       [-0.04935996,  0.0543491 ,  0.0637085 , ...,  0.0588581 ,\n",
              "         0.06339952,  0.01534602],\n",
              "       [-0.04675036, -0.04675053, -0.04675051, ...,  0.04663643,\n",
              "        -0.04675053,  0.04657133],\n",
              "       [-0.05358709,  0.04095994,  0.05399111, ...,  0.05266428,\n",
              "         0.05345597, -0.05399517],\n",
              "       [ 0.0151616 ,  0.03282081,  0.02501616, ...,  0.01230947,\n",
              "         0.02522301, -0.00323162]], dtype=float32)>"
            ]
          },
          "metadata": {},
          "execution_count": 14
        }
      ]
    },
    {
      "cell_type": "code",
      "source": [
        "query=input(\"Enter your search query \\n>\")"
      ],
      "metadata": {
        "colab": {
          "base_uri": "https://localhost:8080/",
          "height": 0
        },
        "id": "4i3fTc26BqYf",
        "outputId": "7e453097-6bf4-4029-cdc4-120401056166"
      },
      "execution_count": 16,
      "outputs": [
        {
          "name": "stdout",
          "output_type": "stream",
          "text": [
            "Enter your search query \n",
            ">May god bless you\n"
          ]
        }
      ]
    },
    {
      "cell_type": "code",
      "source": [
        "type(query)"
      ],
      "metadata": {
        "colab": {
          "base_uri": "https://localhost:8080/",
          "height": 0
        },
        "id": "pLFZqPTUBrvk",
        "outputId": "7509d1ab-8cd0-4a5d-b74a-78df66fe9314"
      },
      "execution_count": 17,
      "outputs": [
        {
          "output_type": "execute_result",
          "data": {
            "text/plain": [
              "str"
            ]
          },
          "metadata": {},
          "execution_count": 17
        }
      ]
    },
    {
      "cell_type": "code",
      "source": [
        "user_query=[]\n",
        "user_query.append(query)"
      ],
      "metadata": {
        "id": "TLMjbTimBzVG"
      },
      "execution_count": 18,
      "outputs": []
    },
    {
      "cell_type": "code",
      "source": [
        "query_embedding=embed(user_query)"
      ],
      "metadata": {
        "id": "IFN2Zn-2B0_f"
      },
      "execution_count": 19,
      "outputs": []
    },
    {
      "cell_type": "code",
      "source": [
        "query_embedding"
      ],
      "metadata": {
        "colab": {
          "base_uri": "https://localhost:8080/",
          "height": 0
        },
        "id": "Uv53QLB0B2kW",
        "outputId": "bd20b278-8a61-4bdb-b9f0-59e2058af2a2"
      },
      "execution_count": 20,
      "outputs": [
        {
          "output_type": "execute_result",
          "data": {
            "text/plain": [
              "<tf.Tensor: shape=(1, 512), dtype=float32, numpy=\n",
              "array([[ 0.05307467,  0.00513646,  0.04261803, -0.07103398,  0.04327961,\n",
              "         0.00198644,  0.0279901 ,  0.00588754, -0.01483849,  0.05877914,\n",
              "         0.05423925,  0.0248418 , -0.01932393, -0.02390528,  0.0411259 ,\n",
              "        -0.07507876, -0.02032622, -0.00384639, -0.00024757, -0.01580213,\n",
              "         0.07997788,  0.03594942,  0.08359759, -0.02264386, -0.00523888,\n",
              "        -0.09684805, -0.01137893, -0.04913693, -0.01087586,  0.02001721,\n",
              "         0.01638985,  0.04060744, -0.02268679, -0.03292778, -0.03407335,\n",
              "        -0.01772095,  0.02703672,  0.00488896, -0.00068174, -0.03200494,\n",
              "        -0.0083286 , -0.05004591,  0.03936211,  0.0682622 ,  0.02487368,\n",
              "        -0.03363308, -0.02093698, -0.04113913,  0.04575634,  0.01479611,\n",
              "        -0.1033534 ,  0.03002192, -0.00946357,  0.00544374, -0.07496521,\n",
              "         0.03550953,  0.06184912, -0.0621787 , -0.0761115 ,  0.03149251,\n",
              "        -0.00723113, -0.02957178,  0.02643087,  0.01092922,  0.03086827,\n",
              "         0.04126132,  0.02950969, -0.02869946,  0.01178553,  0.05556735,\n",
              "        -0.08332346, -0.00804631, -0.0080439 , -0.04014093, -0.04126066,\n",
              "        -0.03524519,  0.03170564, -0.04172895, -0.02445698, -0.0507781 ,\n",
              "        -0.02590048, -0.00274386, -0.05307423, -0.02196816, -0.03744436,\n",
              "         0.0205019 ,  0.00887264, -0.00426997, -0.05044558,  0.01827749,\n",
              "        -0.01472703,  0.07495935,  0.05575171,  0.03211778, -0.06668886,\n",
              "        -0.05823217, -0.02931639,  0.03456984, -0.0026511 , -0.01414348,\n",
              "         0.0049114 , -0.04781204,  0.01429415, -0.036959  ,  0.01031724,\n",
              "        -0.03828305,  0.03048907, -0.0509056 ,  0.03727334, -0.02222829,\n",
              "        -0.03130499,  0.07635578, -0.0375791 , -0.05048427, -0.02437442,\n",
              "         0.0245299 ,  0.0625329 ,  0.02206762,  0.04380772, -0.01601891,\n",
              "         0.01700636,  0.03645812, -0.07011002,  0.02738099,  0.0438652 ,\n",
              "         0.0048848 ,  0.06065702,  0.01810024,  0.05407741, -0.04325548,\n",
              "        -0.02815182, -0.01416813,  0.04860637,  0.06528164, -0.0345494 ,\n",
              "        -0.04746556, -0.02265332,  0.01954894, -0.03285032,  0.0433474 ,\n",
              "        -0.02763706, -0.05527264, -0.05646846,  0.01754434, -0.00539385,\n",
              "        -0.04320207, -0.04389461, -0.03989121, -0.06269298,  0.07552486,\n",
              "         0.00476431, -0.05071379, -0.03900678, -0.04860146, -0.01415942,\n",
              "         0.00052303,  0.05689221,  0.01639208, -0.01426693,  0.0359035 ,\n",
              "        -0.03610128, -0.00472603, -0.00779631, -0.00854157, -0.05656133,\n",
              "        -0.00842232, -0.05750215,  0.06942756,  0.01796775, -0.06737375,\n",
              "         0.0014936 ,  0.03492665,  0.00565627,  0.05924783,  0.00924488,\n",
              "         0.06596077, -0.05187946, -0.07242542,  0.00290195, -0.08606472,\n",
              "         0.05184235, -0.01493908,  0.06443121, -0.02163358, -0.10557292,\n",
              "        -0.05998737, -0.02276068, -0.00304261,  0.06311969, -0.00194339,\n",
              "        -0.04311878, -0.01827824,  0.01691084,  0.04693028,  0.05194678,\n",
              "        -0.00598285,  0.03879755, -0.02127385,  0.00412784,  0.01988689,\n",
              "        -0.06424037,  0.02293319, -0.05057444, -0.0199841 ,  0.01082591,\n",
              "        -0.07355145,  0.05113326,  0.00373173,  0.022831  , -0.01751718,\n",
              "        -0.03574372, -0.05592259,  0.00054109,  0.00168224,  0.02862898,\n",
              "         0.0108642 , -0.01664455, -0.03946226,  0.01218121,  0.03857276,\n",
              "         0.04242867, -0.01829631,  0.05705776,  0.05637806, -0.07558725,\n",
              "         0.08391145,  0.01843699,  0.03519357,  0.02081176,  0.01436236,\n",
              "         0.03710693,  0.05929862,  0.04693447,  0.11769226,  0.0170086 ,\n",
              "        -0.07375007, -0.01681428,  0.04018256, -0.03599166, -0.04808793,\n",
              "        -0.02967702,  0.00415266, -0.00399548, -0.04077127,  0.00415636,\n",
              "         0.06545354, -0.00988546,  0.03039158,  0.0683035 ,  0.00466995,\n",
              "         0.04370666,  0.02913493, -0.01835899,  0.02166986,  0.01019936,\n",
              "        -0.05370999,  0.04531894,  0.00883953,  0.03456093,  0.03981977,\n",
              "        -0.05629672,  0.04644947, -0.00301925,  0.01655759,  0.01792083,\n",
              "         0.01169511, -0.05532568, -0.00603082, -0.02441179,  0.05920272,\n",
              "         0.02397896,  0.11459476,  0.04633301, -0.02134656, -0.01133856,\n",
              "         0.05305258,  0.05225014, -0.01814256,  0.06654271,  0.0685015 ,\n",
              "         0.04458582, -0.0693175 ,  0.04153845, -0.0368405 , -0.005621  ,\n",
              "         0.05904984,  0.00192741, -0.01933757, -0.04879165,  0.08641798,\n",
              "         0.00025917,  0.02670702, -0.07249477,  0.02419127,  0.03351432,\n",
              "         0.06716921,  0.08436362, -0.03633002, -0.00232265,  0.03603061,\n",
              "        -0.04432361,  0.00882153,  0.05701799, -0.03016078, -0.05518516,\n",
              "         0.04746332, -0.06103485,  0.02547927,  0.03340032,  0.03610033,\n",
              "        -0.02407345,  0.06752194, -0.04688734, -0.05957721,  0.04870359,\n",
              "        -0.05545206,  0.00444333, -0.05291547,  0.01376247, -0.00629647,\n",
              "        -0.06909949, -0.06240614,  0.0532983 ,  0.01251274,  0.04366176,\n",
              "         0.06380668, -0.01839496, -0.01102352, -0.0722187 , -0.00641172,\n",
              "         0.00372047, -0.04232264,  0.05461709, -0.02460621, -0.02441916,\n",
              "         0.01186148,  0.02809467,  0.01008107, -0.07858095, -0.01706299,\n",
              "        -0.02540622, -0.06999011,  0.05844938,  0.09238397,  0.0203231 ,\n",
              "         0.02048986, -0.05743213, -0.04260969, -0.07222524, -0.0155175 ,\n",
              "         0.00750239, -0.10926872,  0.04113028, -0.00804996, -0.00843825,\n",
              "        -0.00539094, -0.09777595, -0.04274548,  0.05439345,  0.00823223,\n",
              "        -0.08626237, -0.00153079,  0.05093943, -0.06359903,  0.03343838,\n",
              "         0.07278248, -0.01212484,  0.03789056, -0.02785668, -0.04415249,\n",
              "         0.07507443, -0.00927622,  0.00986617,  0.01616918, -0.01216373,\n",
              "         0.08428846,  0.01070278, -0.04889316,  0.05441048, -0.02945966,\n",
              "        -0.02465879,  0.03839824,  0.00425261, -0.07119444, -0.09863849,\n",
              "         0.03259693, -0.00353914, -0.00214181, -0.01611837,  0.03257886,\n",
              "        -0.03166862, -0.00543107,  0.07630324, -0.03517202,  0.06773001,\n",
              "        -0.0474299 , -0.03207153,  0.03160442, -0.00595023, -0.01097099,\n",
              "        -0.08975119,  0.04351195,  0.04717429, -0.09337077, -0.06187396,\n",
              "         0.04475476,  0.01284187,  0.00514054,  0.05664666, -0.01059648,\n",
              "        -0.04320108,  0.07779378,  0.02207868, -0.0189163 ,  0.03540376,\n",
              "        -0.00829707,  0.01295318,  0.06884328, -0.012553  , -0.03101445,\n",
              "        -0.09058135, -0.01755846, -0.05674804, -0.02584517,  0.04898757,\n",
              "         0.03767842, -0.07055643,  0.01495046,  0.03741316, -0.00363626,\n",
              "        -0.01574286, -0.04779274, -0.06683168,  0.03790487,  0.05480423,\n",
              "        -0.00603219,  0.0298199 ,  0.07477445, -0.02718351,  0.06326121,\n",
              "         0.05341604,  0.0311957 , -0.04804043, -0.05768256,  0.08192046,\n",
              "        -0.03834495,  0.07111929,  0.05123656, -0.07574057,  0.020981  ,\n",
              "         0.0121148 ,  0.0573619 ,  0.00827322,  0.06855114, -0.01898412,\n",
              "        -0.092428  , -0.02689771, -0.04231523, -0.02412927, -0.07992212,\n",
              "        -0.0206767 ,  0.06917109, -0.02968594, -0.08645923,  0.02941533,\n",
              "         0.02060145, -0.06412278, -0.07276507,  0.05082135, -0.00193904,\n",
              "        -0.00636801,  0.0637413 , -0.0427526 ,  0.02036595,  0.00142916,\n",
              "         0.04281598, -0.03491031,  0.01897865,  0.00859458,  0.08965658,\n",
              "         0.00813821, -0.08038986,  0.09077445,  0.00910376,  0.05233566,\n",
              "        -0.03849365, -0.04969988,  0.02699747,  0.01815475,  0.01676462,\n",
              "        -0.00860594, -0.00025425, -0.0120186 , -0.0059148 ,  0.03398015,\n",
              "         0.01842722,  0.03181493, -0.0764892 ,  0.09443371, -0.01955223,\n",
              "        -0.02675762,  0.01884359, -0.03393208, -0.04322647,  0.01721943,\n",
              "         0.03452266, -0.01128226,  0.06582566, -0.03403408,  0.01902732,\n",
              "        -0.04814598, -0.02465744]], dtype=float32)>"
            ]
          },
          "metadata": {},
          "execution_count": 20
        }
      ]
    },
    {
      "cell_type": "code",
      "source": [
        "sim1=cosine_similarity(doc_embeddings,query_embedding)"
      ],
      "metadata": {
        "id": "xweXRf1XB3qo"
      },
      "execution_count": 21,
      "outputs": []
    },
    {
      "cell_type": "code",
      "source": [
        "data={\"Article\":wiki_lst,\"Similarity Score\":sim1.flatten()}\n",
        "df=pd.DataFrame(data)\n",
        "#df.sort_values([\"Similarity Score\"],ascending=False, inplace=True)"
      ],
      "metadata": {
        "id": "sWxHV1SrB51v"
      },
      "execution_count": 22,
      "outputs": []
    },
    {
      "cell_type": "code",
      "source": [
        "df"
      ],
      "metadata": {
        "colab": {
          "base_uri": "https://localhost:8080/",
          "height": 206
        },
        "id": "yrSEkYFMB7kj",
        "outputId": "eb3a10eb-ab18-43bf-a7ad-957f1fd0afb3"
      },
      "execution_count": 23,
      "outputs": [
        {
          "output_type": "execute_result",
          "data": {
            "text/plain": [
              "                                             Article  Similarity Score\n",
              "0  Porsha (Bengali: পোরশা) is an Upazila of Naoga...          0.100020\n",
              "1  \"Pocketful of Rainbows\" is a song from the 196...          0.057115\n",
              "2  The North Carolina Tar Heels Men's basketball ...         -0.008200\n",
              "3  Fatinitza was the first full-length, three-act...         -0.005613\n",
              "4  Gary Fisketjon (born 1954) was an Editor and V...         -0.017395"
            ],
            "text/html": [
              "\n",
              "  <div id=\"df-e3314bff-25b9-4894-a5d7-c368d007afda\">\n",
              "    <div class=\"colab-df-container\">\n",
              "      <div>\n",
              "<style scoped>\n",
              "    .dataframe tbody tr th:only-of-type {\n",
              "        vertical-align: middle;\n",
              "    }\n",
              "\n",
              "    .dataframe tbody tr th {\n",
              "        vertical-align: top;\n",
              "    }\n",
              "\n",
              "    .dataframe thead th {\n",
              "        text-align: right;\n",
              "    }\n",
              "</style>\n",
              "<table border=\"1\" class=\"dataframe\">\n",
              "  <thead>\n",
              "    <tr style=\"text-align: right;\">\n",
              "      <th></th>\n",
              "      <th>Article</th>\n",
              "      <th>Similarity Score</th>\n",
              "    </tr>\n",
              "  </thead>\n",
              "  <tbody>\n",
              "    <tr>\n",
              "      <th>0</th>\n",
              "      <td>Porsha (Bengali: পোরশা) is an Upazila of Naoga...</td>\n",
              "      <td>0.100020</td>\n",
              "    </tr>\n",
              "    <tr>\n",
              "      <th>1</th>\n",
              "      <td>\"Pocketful of Rainbows\" is a song from the 196...</td>\n",
              "      <td>0.057115</td>\n",
              "    </tr>\n",
              "    <tr>\n",
              "      <th>2</th>\n",
              "      <td>The North Carolina Tar Heels Men's basketball ...</td>\n",
              "      <td>-0.008200</td>\n",
              "    </tr>\n",
              "    <tr>\n",
              "      <th>3</th>\n",
              "      <td>Fatinitza was the first full-length, three-act...</td>\n",
              "      <td>-0.005613</td>\n",
              "    </tr>\n",
              "    <tr>\n",
              "      <th>4</th>\n",
              "      <td>Gary Fisketjon (born 1954) was an Editor and V...</td>\n",
              "      <td>-0.017395</td>\n",
              "    </tr>\n",
              "  </tbody>\n",
              "</table>\n",
              "</div>\n",
              "      <button class=\"colab-df-convert\" onclick=\"convertToInteractive('df-e3314bff-25b9-4894-a5d7-c368d007afda')\"\n",
              "              title=\"Convert this dataframe to an interactive table.\"\n",
              "              style=\"display:none;\">\n",
              "        \n",
              "  <svg xmlns=\"http://www.w3.org/2000/svg\" height=\"24px\"viewBox=\"0 0 24 24\"\n",
              "       width=\"24px\">\n",
              "    <path d=\"M0 0h24v24H0V0z\" fill=\"none\"/>\n",
              "    <path d=\"M18.56 5.44l.94 2.06.94-2.06 2.06-.94-2.06-.94-.94-2.06-.94 2.06-2.06.94zm-11 1L8.5 8.5l.94-2.06 2.06-.94-2.06-.94L8.5 2.5l-.94 2.06-2.06.94zm10 10l.94 2.06.94-2.06 2.06-.94-2.06-.94-.94-2.06-.94 2.06-2.06.94z\"/><path d=\"M17.41 7.96l-1.37-1.37c-.4-.4-.92-.59-1.43-.59-.52 0-1.04.2-1.43.59L10.3 9.45l-7.72 7.72c-.78.78-.78 2.05 0 2.83L4 21.41c.39.39.9.59 1.41.59.51 0 1.02-.2 1.41-.59l7.78-7.78 2.81-2.81c.8-.78.8-2.07 0-2.86zM5.41 20L4 18.59l7.72-7.72 1.47 1.35L5.41 20z\"/>\n",
              "  </svg>\n",
              "      </button>\n",
              "      \n",
              "  <style>\n",
              "    .colab-df-container {\n",
              "      display:flex;\n",
              "      flex-wrap:wrap;\n",
              "      gap: 12px;\n",
              "    }\n",
              "\n",
              "    .colab-df-convert {\n",
              "      background-color: #E8F0FE;\n",
              "      border: none;\n",
              "      border-radius: 50%;\n",
              "      cursor: pointer;\n",
              "      display: none;\n",
              "      fill: #1967D2;\n",
              "      height: 32px;\n",
              "      padding: 0 0 0 0;\n",
              "      width: 32px;\n",
              "    }\n",
              "\n",
              "    .colab-df-convert:hover {\n",
              "      background-color: #E2EBFA;\n",
              "      box-shadow: 0px 1px 2px rgba(60, 64, 67, 0.3), 0px 1px 3px 1px rgba(60, 64, 67, 0.15);\n",
              "      fill: #174EA6;\n",
              "    }\n",
              "\n",
              "    [theme=dark] .colab-df-convert {\n",
              "      background-color: #3B4455;\n",
              "      fill: #D2E3FC;\n",
              "    }\n",
              "\n",
              "    [theme=dark] .colab-df-convert:hover {\n",
              "      background-color: #434B5C;\n",
              "      box-shadow: 0px 1px 3px 1px rgba(0, 0, 0, 0.15);\n",
              "      filter: drop-shadow(0px 1px 2px rgba(0, 0, 0, 0.3));\n",
              "      fill: #FFFFFF;\n",
              "    }\n",
              "  </style>\n",
              "\n",
              "      <script>\n",
              "        const buttonEl =\n",
              "          document.querySelector('#df-e3314bff-25b9-4894-a5d7-c368d007afda button.colab-df-convert');\n",
              "        buttonEl.style.display =\n",
              "          google.colab.kernel.accessAllowed ? 'block' : 'none';\n",
              "\n",
              "        async function convertToInteractive(key) {\n",
              "          const element = document.querySelector('#df-e3314bff-25b9-4894-a5d7-c368d007afda');\n",
              "          const dataTable =\n",
              "            await google.colab.kernel.invokeFunction('convertToInteractive',\n",
              "                                                     [key], {});\n",
              "          if (!dataTable) return;\n",
              "\n",
              "          const docLinkHtml = 'Like what you see? Visit the ' +\n",
              "            '<a target=\"_blank\" href=https://colab.research.google.com/notebooks/data_table.ipynb>data table notebook</a>'\n",
              "            + ' to learn more about interactive tables.';\n",
              "          element.innerHTML = '';\n",
              "          dataTable['output_type'] = 'display_data';\n",
              "          await google.colab.output.renderOutput(dataTable, element);\n",
              "          const docLink = document.createElement('div');\n",
              "          docLink.innerHTML = docLinkHtml;\n",
              "          element.appendChild(docLink);\n",
              "        }\n",
              "      </script>\n",
              "    </div>\n",
              "  </div>\n",
              "  "
            ]
          },
          "metadata": {},
          "execution_count": 23
        }
      ]
    },
    {
      "cell_type": "code",
      "source": [
        "# Similarity Score >mean then 1 else Similarity Score <=mean then 0\n",
        "df.loc[df['Similarity Score'] <= np.mean(df[\"Similarity Score\"]), 'Relevance'] = 0 \n",
        "df.loc[df['Similarity Score'] > np.mean(df[\"Similarity Score\"]), 'Relevance'] = 1 "
      ],
      "metadata": {
        "id": "KKv4mBiiB8-S"
      },
      "execution_count": 24,
      "outputs": []
    },
    {
      "cell_type": "code",
      "source": [
        "from sklearn.decomposition import PCA\n",
        "  \n",
        "pca = PCA(n_components = 2)\n",
        "  \n",
        "pca_values = pca.fit_transform(doc_embeddings)\n",
        "  \n",
        "explained_variance = pca.explained_variance_ratio_"
      ],
      "metadata": {
        "id": "deyTi6S3B-wY"
      },
      "execution_count": 25,
      "outputs": []
    },
    {
      "cell_type": "code",
      "source": [
        "pca_df = pd.DataFrame(pca_values)\n",
        "pca_df.columns = ['x', 'y']\n",
        "pca_df['Article'] = df['Article']\n",
        "pca_df['Relevance'] = df['Relevance']\n",
        "pca_df.to_csv('pca_df.csv', encoding='utf-8', index=False)"
      ],
      "metadata": {
        "id": "gAFrdxjTCBaQ"
      },
      "execution_count": 26,
      "outputs": []
    },
    {
      "cell_type": "code",
      "source": [
        "import matplotlib.pyplot as plt"
      ],
      "metadata": {
        "id": "z8GehgONCF4K"
      },
      "execution_count": 29,
      "outputs": []
    },
    {
      "cell_type": "code",
      "source": [
        "groups = pca_df.groupby('Relevance')\n",
        "fig, ax = plt.subplots(figsize=(15, 10))\n",
        "ax.margins(0.05) # Optional, just adds 5% padding to the autoscaling\n",
        "for name, group in groups:\n",
        "    ax.plot(group.x, group.y, marker='o', linestyle='', label=name)\n",
        "ax.legend()\n",
        "plt.show()"
      ],
      "metadata": {
        "colab": {
          "base_uri": "https://localhost:8080/",
          "height": 551
        },
        "id": "4cLZY1jnCDVs",
        "outputId": "f5dc2fb8-42fb-4b8c-97fb-c00f70fe28b5"
      },
      "execution_count": 30,
      "outputs": [
        {
          "output_type": "display_data",
          "data": {
            "text/plain": [
              "<Figure size 1080x720 with 1 Axes>"
            ],
            "image/png": "[encoded data removed]"
          },
          "metadata": {
            "needs_background": "light"
          }
        }
      ]
    },
    {
      "cell_type": "code",
      "source": [],
      "metadata": {
        "id": "bRgAAIFlCEZ6"
      },
      "execution_count": null,
      "outputs": []
    }
  ]
}